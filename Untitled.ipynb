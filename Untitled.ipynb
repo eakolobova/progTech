{
 "cells": [
  {
   "cell_type": "code",
   "execution_count": 2,
   "id": "7c67d6f9-3cfc-4fc7-9623-b8aa74027aaa",
   "metadata": {},
   "outputs": [],
   "source": [
    "#Лаб. работаа №7, Колобова Елизавета гр. НММбд-01-22"
   ]
  },
  {
   "cell_type": "code",
   "execution_count": 11,
   "id": "6ceafc09-8418-4a7b-ba75-929452d03b03",
   "metadata": {},
   "outputs": [],
   "source": [
    "import numpy as np\n",
    "import matplotlib.pyplot as plt\n",
    "from mpl_toolkits.mplot3d.axes3d import Axes3D"
   ]
  },
  {
   "cell_type": "code",
   "execution_count": 12,
   "id": "6b4a61c8-811f-4b31-a0fa-55dd169cce47",
   "metadata": {},
   "outputs": [],
   "source": [
    "#начальные данные и некоторые функции из задания\n",
    "X = np.array([[ 1,  1],\n",
    "              [ 1,  1],\n",
    "              [ 1,  2],\n",
    "              [ 1,  5],\n",
    "              [ 1,  3],\n",
    "              [ 1,  0],\n",
    "              [ 1,  5],\n",
    "              [ 1, 10],\n",
    "              [ 1,  1],\n",
    "              [ 1,  2]])\n",
    "X.shape\n",
    "y = [45, 55, 50, 55, 60, 35, 75, 80, 50, 60]\n",
    "\n",
    "def calc_mae(y, y_pred):\n",
    "    err = np.mean(np.abs(y - y_pred))\n",
    "    return err\n",
    "\n",
    "def calc_mse(y, y_pred):\n",
    "    err = np.mean((y - y_pred)**2)\n",
    "    return err\n",
    "    \n",
    "n = X.shape[0]\n",
    "\n",
    "eta = 1e-2"
   ]
  },
  {
   "cell_type": "code",
   "execution_count": 13,
   "id": "e5948b6c-5dbb-4872-b7a3-feaa228d4ad7",
   "metadata": {},
   "outputs": [
    {
     "name": "stdout",
     "output_type": "stream",
     "text": [
      "Iteration #0: W_new = [ 7.48 23.12], MSE = 3047.75\n",
      "Stop descent! iteration: 2, weights: [ 7.48 23.12], mse: 3047.75\n",
      "Iteration #0: W_new = [ 5.26109091 -0.38690909], MSE = 3439.92\n"
     ]
    },
    {
     "data": {
      "text/plain": [
       "(array([ 5.26109091, -0.38690909]), 3047.75)"
      ]
     },
     "execution_count": 13,
     "metadata": {},
     "output_type": "execute_result"
    }
   ],
   "source": [
    "#task1\n",
    "def grad_desc(X, y, eta=1e-2, verbose=False, tol=0.0):\n",
    "\n",
    "    n = X.shape[0]\n",
    "    W = np.array([1, 0.5])  # задаём начальное значение весов\n",
    "    min_err = float('inf')  #начальное значение ошибки модели - бесконечность\n",
    "    n_iter = 0  # отслеживаем количество итераций\n",
    "    stop_chek = True  #проверяем снижение ошибки\n",
    "    while stop_chek:\n",
    "        n_iter += 1\n",
    "        y_pred = np.dot(X, W)\n",
    "        err = calc_mse(y, y_pred) #считаем среднеквадратичное отклонение\n",
    "        if min_err - err > tol:  # контролируем текущее значение ошибки\n",
    "            min_err = err\n",
    "        else:  # если снижение прекратилось, останавливаемся.\n",
    "            print(\n",
    "                f'Stop descent! iteration: {n_iter}, weights: {W}, mse: {min_err}')\n",
    "            stop_chek = False\n",
    "        for k in range(W.shape[0]):#эта часть из кода задания\n",
    "            W[k] -= eta * (1/n * 2 * X[:, k] @ (y_pred - y))\n",
    "        if verbose:\n",
    "            if i % 10 == 0:\n",
    "                eta /= 1.1\n",
    "                print(f'Iteration #{i}: W_new = {W}, MSE = {round(err, 2)}')\n",
    "    return W, min_err\n",
    "#дальше вызываем функцию\n",
    "W_1, mse_1 = grad_desc(X, y, eta=0.06, verbose=True)\n",
    "W_1, mse_1\n",
    "\n"
   ]
  },
  {
   "cell_type": "code",
   "execution_count": 14,
   "id": "5d4b7feb-3c9f-4ab1-aba6-82c0d74c17d6",
   "metadata": {},
   "outputs": [
    {
     "name": "stdout",
     "output_type": "stream",
     "text": [
      "Number of objects = 10        \n",
      "Learning rate = 0.01        \n",
      "Initial weights = [1.  0.5] \n",
      "\n"
     ]
    },
    {
     "ename": "NameError",
     "evalue": "name 'k' is not defined",
     "output_type": "error",
     "traceback": [
      "\u001b[1;31m---------------------------------------------------------------------------\u001b[0m",
      "\u001b[1;31mNameError\u001b[0m                                 Traceback (most recent call last)",
      "Cell \u001b[1;32mIn[14], line 14\u001b[0m\n\u001b[0;32m     10\u001b[0m     err \u001b[38;5;241m=\u001b[39m calc_mse(y, y_pred) \u001b[38;5;66;03m#считаем среднеквадратичное отклонение\u001b[39;00m\n\u001b[0;32m     11\u001b[0m \u001b[38;5;66;03m#     for k in range(W.shape[0]):\u001b[39;00m\n\u001b[0;32m     12\u001b[0m \u001b[38;5;66;03m#         W[k] -= eta * (1/n * 2 * X[:, k] @ (y_pred - y))\u001b[39;00m\n\u001b[1;32m---> 14\u001b[0m     W \u001b[38;5;241m-\u001b[39m\u001b[38;5;241m=\u001b[39m (eta \u001b[38;5;241m*\u001b[39m (\u001b[38;5;241m1\u001b[39m\u001b[38;5;241m/\u001b[39mn \u001b[38;5;241m*\u001b[39m \u001b[38;5;241m2\u001b[39m \u001b[38;5;241m*\u001b[39m np\u001b[38;5;241m.\u001b[39mdot(X[:, \u001b[43mk\u001b[49m], (y_pred \u001b[38;5;241m-\u001b[39m y)))) \u001b[38;5;66;03m#изменения мы вносим в эту строчку, заменяя метод умножения X и (y_pred - y) друг на друга\u001b[39;00m\n\u001b[0;32m     15\u001b[0m     \u001b[38;5;66;03m#чтобы избавиться от итераций по весам\u001b[39;00m\n\u001b[0;32m     17\u001b[0m     \u001b[38;5;28;01mif\u001b[39;00m i \u001b[38;5;241m%\u001b[39m \u001b[38;5;241m10\u001b[39m \u001b[38;5;241m==\u001b[39m \u001b[38;5;241m0\u001b[39m:\n",
      "\u001b[1;31mNameError\u001b[0m: name 'k' is not defined"
     ]
    }
   ],
   "source": [
    "n_iter = 100\n",
    "\n",
    "W = np.array([1, 0.5])\n",
    "print(f'Number of objects = {n} \\\n",
    "       \\nLearning rate = {eta} \\\n",
    "       \\nInitial weights = {W} \\n')\n",
    "\n",
    "for i in range(n_iter):\n",
    "    y_pred = np.dot(X, W)\n",
    "    err = calc_mse(y, y_pred) #считаем среднеквадратичное отклонение\n",
    "#     for k in range(W.shape[0]):\n",
    "#         W[k] -= eta * (1/n * 2 * X[:, k] @ (y_pred - y))\n",
    "\n",
    "    W -= (eta * (1/n * 2 * np.dot(X[:, k], (y_pred - y)))) #изменения мы вносим в эту строчку, аргументы метода dot указаны неверно, у матриц будет несовпадение размерностей\n",
    "\n",
    "    if i % 10 == 0:\n",
    "        print(f'Iteration #{i}: W_new = {W}, MSE = {round(err,2)}')"
   ]
  },
  {
   "cell_type": "code",
   "execution_count": 15,
   "id": "6dcfc7ef-ea7d-48c3-a7d9-e7a307c4d8dd",
   "metadata": {},
   "outputs": [
    {
     "ename": "NameError",
     "evalue": "name 'k' is not defined",
     "output_type": "error",
     "traceback": [
      "\u001b[1;31m---------------------------------------------------------------------------\u001b[0m",
      "\u001b[1;31mNameError\u001b[0m                                 Traceback (most recent call last)",
      "Cell \u001b[1;32mIn[15], line 9\u001b[0m\n\u001b[0;32m      7\u001b[0m y_pred \u001b[38;5;241m=\u001b[39m np\u001b[38;5;241m.\u001b[39mdot(X, W) \u001b[38;5;66;03m#\u001b[39;00m\n\u001b[0;32m      8\u001b[0m err \u001b[38;5;241m=\u001b[39m calc_mse(y, y_pred)\u001b[38;5;66;03m#считаем среднеквадратичное отклонение\u001b[39;00m\n\u001b[1;32m----> 9\u001b[0m W \u001b[38;5;241m-\u001b[39m\u001b[38;5;241m=\u001b[39m eta \u001b[38;5;241m*\u001b[39m (\u001b[38;5;241m1\u001b[39m\u001b[38;5;241m/\u001b[39mn \u001b[38;5;241m*\u001b[39m \u001b[38;5;241m2\u001b[39m \u001b[38;5;241m*\u001b[39m np\u001b[38;5;241m.\u001b[39mdot(X[:, \u001b[43mk\u001b[49m], (y_pred \u001b[38;5;241m-\u001b[39m y))) \n\u001b[0;32m     10\u001b[0m i \u001b[38;5;241m+\u001b[39m\u001b[38;5;241m=\u001b[39m \u001b[38;5;241m1\u001b[39m\n\u001b[0;32m     11\u001b[0m \u001b[38;5;28;01mif\u001b[39;00m np\u001b[38;5;241m.\u001b[39mabs(err \u001b[38;5;241m-\u001b[39m err_pred) \u001b[38;5;241m<\u001b[39m\u001b[38;5;241m=\u001b[39m diff: \u001b[38;5;66;03m#если веса перестают изменяться меньше заданного порога, останавливаемся\u001b[39;00m\n",
      "\u001b[1;31mNameError\u001b[0m: name 'k' is not defined"
     ]
    }
   ],
   "source": [
    "\n",
    "#task3\n",
    "diff = 1e-6 #задаем порог для изменения итераций\n",
    "err_pred = np.inf\n",
    "i = 0\n",
    " \n",
    "while True:\n",
    "    y_pred = np.dot(X, W) #\n",
    "    err = calc_mse(y, y_pred)#считаем среднеквадратичное отклонение\n",
    "    W -= eta * (1/n * 2 * np.dot(X[:, k], (y_pred - y))) \n",
    "    i += 1\n",
    "    if np.abs(err - err_pred) <= diff: #если веса перестают изменяться меньше заданного порога, останавливаемся\n",
    "        print('Стоп!', i, W, err)\n",
    "        break\n",
    "err_pred = err"
   ]
  },
  {
   "cell_type": "code",
   "execution_count": null,
   "id": "a963ddd0-6711-48b9-b825-a459bbd8152c",
   "metadata": {},
   "outputs": [],
   "source": []
  }
 ],
 "metadata": {
  "kernelspec": {
   "display_name": "Python 3 (ipykernel)",
   "language": "python",
   "name": "python3"
  },
  "language_info": {
   "codemirror_mode": {
    "name": "ipython",
    "version": 3
   },
   "file_extension": ".py",
   "mimetype": "text/x-python",
   "name": "python",
   "nbconvert_exporter": "python",
   "pygments_lexer": "ipython3",
   "version": "3.12.0"
  }
 },
 "nbformat": 4,
 "nbformat_minor": 5
}
